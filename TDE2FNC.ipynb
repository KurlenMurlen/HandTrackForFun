{
  "nbformat": 4,
  "nbformat_minor": 0,
  "metadata": {
    "colab": {
      "provenance": [],
      "authorship_tag": "ABX9TyNa64P0aCAUQQaMqlfXjNRe",
      "include_colab_link": true
    },
    "kernelspec": {
      "name": "python3",
      "display_name": "Python 3"
    },
    "language_info": {
      "name": "python"
    }
  },
  "cells": [
    {
      "cell_type": "markdown",
      "metadata": {
        "id": "view-in-github",
        "colab_type": "text"
      },
      "source": [
        "<a href=\"https://colab.research.google.com/github/KurlenMurlen/HandTrackForFun/blob/main/TDE2FNC.ipynb\" target=\"_parent\"><img src=\"https://colab.research.google.com/assets/colab-badge.svg\" alt=\"Open In Colab\"/></a>"
      ]
    },
    {
      "cell_type": "markdown",
      "source": [
        "PONTIFÍCIA UNIVERSIDADE CATÓLICA DO PARANÁ\n",
        "\n",
        "[PTBR] BACHARELADO EM CIÊNCIA DA COMPUTAÇÃO\n",
        "\n",
        "[ENG] GRADUATION IN COMPUTER SCIENCE\n",
        "\n",
        "TDE 2 - FNC\n",
        "\n",
        " 4.º P - B\n",
        "\n",
        "TARSO BERTOLINI RODRIGUES"
      ],
      "metadata": {
        "id": "s3zUwQtP2JF9"
      }
    },
    {
      "cell_type": "markdown",
      "source": [
        "[PTBR] Observação: Para executar o programa é necessário trazer o código para uma IDE e criar os arquivos main.py, input.txt e output.txt já que o ambiente do Google Collab, embora consiga receber arquivos, cria passos desnecessários e que alterariam o meu código.\n",
        "\n",
        "[ENG] Observation: To run the program, it is necessary to bring the code to an IDE and create the files main.py, input.txt, and output.txt, since the Google Colab environment, although capable of receiving files, creates unnecessary steps that would modify my code."
      ],
      "metadata": {
        "id": "ZIYl_tHBBF3M"
      }
    },
    {
      "cell_type": "markdown",
      "source": [
        "#### input.txt:\n",
        "$$(A \\lor B) \\land (\\neg C) \\land (\\neg (A \\implies B))$$\n",
        "```\n",
        "1\n",
        "(A \\lor B) \\land (\\neg C) \\land (\\neg (A \\implies B))\n",
        "```\n"
      ],
      "metadata": {
        "id": "jLtTHXOm2IRR"
      }
    },
    {
      "cell_type": "markdown",
      "source": [
        "main.py:"
      ],
      "metadata": {
        "id": "3U-W7kYaAIRb"
      }
    },
    {
      "cell_type": "code",
      "source": [
        "import sympy as sp\n",
        "from sympy.logic.boolalg import to_cnf\n",
        "\n",
        "# reading them files  <3\n",
        "def ler_fbf_arquivo(caminho_arquivo):\n",
        "    try:\n",
        "        with open(caminho_arquivo, 'r') as file:\n",
        "            linhas = file.readlines()\n",
        "\n",
        "        num_fbf = int(linhas[0].strip())  # WFF qtt number\n",
        "        fbf_list = [linha.strip() for linha in linhas[1:num_fbf + 1]]  # list of all WFF's\n",
        "\n",
        "        if len(fbf_list) != num_fbf:\n",
        "            print(f\"Advertência: O número de FBFs especificado ({num_fbf}) não corresponde ao número de fórmulas encontradas ({len(fbf_list)}). Processando as fórmulas encontradas.\")\n",
        "\n",
        "        return fbf_list\n",
        "    except FileNotFoundError:\n",
        "        print(f\"Erro: Arquivo não encontrado no caminho '{caminho_arquivo}'. Verifique o caminho e tente novamente.\")\n",
        "        return []\n",
        "    except ValueError:\n",
        "        print(\"Erro: A primeira linha do arquivo deve conter um número inteiro que representa a quantidade de FBFs.\")\n",
        "        return []\n",
        "\n",
        "def converter_para_fnc(fbf_latex):\n",
        "    try:\n",
        "        # correcting parenthesis\n",
        "        fbf_latex_corrigido = fbf_latex.replace(\"\\\\lor\", \"|\").replace(\"\\\\land\", \"&\").replace(\"\\\\neg\", \"~\").replace(\"\\\\implies\", \">>\")\n",
        "\n",
        "        # translating latex using sympy\n",
        "        fbf_expr = sp.sympify(fbf_latex_corrigido, evaluate=False)\n",
        "\n",
        "        # Converting into NCF\n",
        "        fnc_expr = to_cnf(fbf_expr, simplify=True)\n",
        "\n",
        "        # converting back into latex\n",
        "        fnc_latex = sp.latex(fnc_expr)\n",
        "        return fnc_latex\n",
        "    except (sp.SympifyError, TypeError, SyntaxError) as e:\n",
        "        print(f\"Erro ao processar a FBF '{fbf_latex}'. Não foi possível converter para uma expressão válida. Detalhes: {e}\")\n",
        "        return None\n",
        "\n",
        "def escrever_fbf_fnc_arquivo(fbf_fnc_list, caminho_arquivo_saida):\n",
        "    with open(caminho_arquivo_saida, 'w') as file:\n",
        "        for fbf_fnc in fbf_fnc_list:\n",
        "            if fbf_fnc:  # verifies if WFF isn't null\n",
        "                file.write(fbf_fnc + '\\n')\n",
        "\n",
        "# rendering all WFF's\n",
        "def renderizar_fbf_terminal(fbf_fnc_list):\n",
        "    for fbf_fnc in fbf_fnc_list:\n",
        "        if fbf_fnc:  # verifies if WFF isn't null ( conversion error)\n",
        "            print(f\"\\nFBF em FNC (LaTeX):\\n{fbf_fnc}\\n\")\n",
        "\n",
        "def main():\n",
        "    caminho_entrada = 'input.txt'  # input file with latex\n",
        "    caminho_saida = 'output.txt'   # same but output\n",
        "\n",
        "    # 1. read all WFFs\n",
        "    fbf_list = ler_fbf_arquivo(caminho_entrada)\n",
        "\n",
        "    # checking if fbf_list is not emptyy\n",
        "    if fbf_list:\n",
        "        # 2. converet each WFF into NFC\n",
        "        fbf_fnc_list = [converter_para_fnc(fbf) for fbf in fbf_list]\n",
        "\n",
        "        # 3. writes the WFF in NCF into the output\n",
        "        escrever_fbf_fnc_arquivo(fbf_fnc_list, caminho_saida)\n",
        "\n",
        "        # 4. rendering in latex\n",
        "        renderizar_fbf_terminal(fbf_fnc_list)\n",
        "    else:\n",
        "        print(\"Nenhuma fórmula foi processada devido a um erro na leitura do arquivo.\")\n",
        "\n",
        "if __name__ == '__main__':\n",
        "    main()"
      ],
      "metadata": {
        "id": "ujBuEQ3mAHXD"
      },
      "execution_count": null,
      "outputs": []
    }
  ]
}